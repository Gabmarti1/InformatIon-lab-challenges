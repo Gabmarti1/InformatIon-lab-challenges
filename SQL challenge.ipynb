{
 "cells": [
  {
   "cell_type": "code",
   "execution_count": null,
   "metadata": {},
   "outputs": [],
   "source": [
    "SELECT et.email\n",
    "FROM public.data_table as dt\n",
    "JOIN public.email_table as et ON dt.join_id = et.join_id\n",
    "WHERE dt.column_1 % 2 = 0\n",
    "AND dt.column_2 < dt.column_1\n",
    "AND dt.column_3 % 10 = 1"
   ]
  }
 ],
 "metadata": {
  "language_info": {
   "name": "python"
  },
  "orig_nbformat": 4
 },
 "nbformat": 4,
 "nbformat_minor": 2
}
